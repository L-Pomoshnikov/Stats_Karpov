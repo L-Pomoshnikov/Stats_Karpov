{
 "cells": [
  {
   "cell_type": "markdown",
   "metadata": {},
   "source": [
    "## Комбинаторика"
   ]
  },
  {
   "cell_type": "markdown",
   "metadata": {},
   "source": [
    "#### Факториал"
   ]
  },
  {
   "cell_type": "code",
   "execution_count": 1,
   "metadata": {},
   "outputs": [],
   "source": [
    "def factorial(x):\n",
    "    if x == 0 or x == 1:\n",
    "        ans = 1\n",
    "    else:\n",
    "        ans = factorial(x-1) * x\n",
    "    return ans"
   ]
  },
  {
   "cell_type": "markdown",
   "metadata": {},
   "source": [
    "#### Cочетания из n по k"
   ]
  },
  {
   "cell_type": "code",
   "execution_count": 2,
   "metadata": {},
   "outputs": [],
   "source": [
    "def combine(n, k):\n",
    "    return factorial(n) / (factorial(k) * factorial(n-k))"
   ]
  },
  {
   "cell_type": "markdown",
   "metadata": {},
   "source": [
    "#### Формула Бернулли"
   ]
  },
  {
   "cell_type": "code",
   "execution_count": 3,
   "metadata": {},
   "outputs": [],
   "source": [
    "def bernulli(n, k, p):\n",
    "    q = 1 - p\n",
    "    x1 = combine(n, k)\n",
    "    x2 = p**k\n",
    "    x3 = q**(n-k)\n",
    "    return x1 * x2 * x3"
   ]
  },
  {
   "cell_type": "markdown",
   "metadata": {},
   "source": [
    "#### Формула Бернулли с повторениями"
   ]
  },
  {
   "cell_type": "code",
   "execution_count": 4,
   "metadata": {},
   "outputs": [],
   "source": [
    "#если число выборок > числа элементов\n",
    "def combine_w_duplicates(n, k): \n",
    "    a = factorial(n+k-1)\n",
    "    b = factorial(k) * factorial(n-1)\n",
    "    return a/b"
   ]
  },
  {
   "cell_type": "code",
   "execution_count": 5,
   "metadata": {},
   "outputs": [
    {
     "name": "stdout",
     "output_type": "stream",
     "text": [
      "0.95 ; 0.05\n",
      "0.9025 ; 0.095\n",
      "0.8573749999999999 ; 0.13537500000000002\n",
      "0.8145062499999999 ; 0.171475\n",
      "0.7737809374999998 ; 0.20362656249999997\n",
      "0.7350918906249998 ; 0.23213428124999996\n",
      "0.6983372960937497 ; 0.25728216171874996\n",
      "0.6634204312890623 ; 0.2793349184374999\n",
      "0.6302494097246091 ; 0.298539194080078\n",
      "0.5987369392383787 ; 0.31512470486230454\n",
      "0.5688000922764597 ; 0.3293053165811083\n",
      "0.5403600876626367 ; 0.34128005536587586\n",
      "0.5133420832795048 ; 0.35123405698071386\n",
      "0.48767497911552954 ; 0.3593394582956534\n",
      "0.46329123015975304 ; 0.36575623433664717\n",
      "0.44012666865176536 ; 0.37063298412780243\n",
      "0.4181203352191771 ; 0.3741076683540006\n",
      "0.3972143184582182 ; 0.3763083016972594\n",
      "0.37735360253530725 ; 0.3773536025353073\n",
      "0.3584859224085419 ; 0.37735360253530725\n"
     ]
    }
   ],
   "source": [
    "k1 = 0\n",
    "k2 = 1\n",
    "p = 0.05\n",
    "for n in range(20):\n",
    "    print(bernulli(n+1, k1, p), ';', bernulli(n+1, k2, p))"
   ]
  },
  {
   "cell_type": "markdown",
   "metadata": {},
   "source": [
    "#### Размещения"
   ]
  },
  {
   "cell_type": "code",
   "execution_count": 3,
   "metadata": {},
   "outputs": [],
   "source": [
    "def placements(n, k):\n",
    "\n",
    "    return x1 * x2 * x3"
   ]
  },
  {
   "cell_type": "code",
   "execution_count": null,
   "metadata": {},
   "outputs": [],
   "source": []
  }
 ],
 "metadata": {
  "kernelspec": {
   "display_name": "Python 3",
   "language": "python",
   "name": "python3"
  },
  "language_info": {
   "codemirror_mode": {
    "name": "ipython",
    "version": 3
   },
   "file_extension": ".py",
   "mimetype": "text/x-python",
   "name": "python",
   "nbconvert_exporter": "python",
   "pygments_lexer": "ipython3",
   "version": "3.8.3"
  }
 },
 "nbformat": 4,
 "nbformat_minor": 4
}
