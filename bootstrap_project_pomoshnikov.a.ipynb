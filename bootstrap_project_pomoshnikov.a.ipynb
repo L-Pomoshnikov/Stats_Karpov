{
 "cells": [
  {
   "cell_type": "code",
   "execution_count": 19,
   "metadata": {},
   "outputs": [],
   "source": [
    "import pandas as pd\n",
    "import numpy as np\n",
    "import scipy.stats as sp\n",
    "import seaborn as sns\n",
    "from tqdm.auto import tqdm\n",
    "\n",
    "import matplotlib.pyplot as plt\n",
    "plt.style.use('fivethirtyeight')"
   ]
  },
  {
   "cell_type": "markdown",
   "metadata": {},
   "source": [
    "#### 1) загружаем данные"
   ]
  },
  {
   "cell_type": "code",
   "execution_count": 3,
   "metadata": {},
   "outputs": [],
   "source": [
    "path = 'https://stepik.org/media/attachments/lesson/396008/hw_bootstrap.csv'"
   ]
  },
  {
   "cell_type": "code",
   "execution_count": 64,
   "metadata": {},
   "outputs": [],
   "source": [
    "#??pd.read_csv"
   ]
  },
  {
   "cell_type": "code",
   "execution_count": 4,
   "metadata": {},
   "outputs": [
    {
     "data": {
      "text/html": [
       "<div>\n",
       "<style scoped>\n",
       "    .dataframe tbody tr th:only-of-type {\n",
       "        vertical-align: middle;\n",
       "    }\n",
       "\n",
       "    .dataframe tbody tr th {\n",
       "        vertical-align: top;\n",
       "    }\n",
       "\n",
       "    .dataframe thead th {\n",
       "        text-align: right;\n",
       "    }\n",
       "</style>\n",
       "<table border=\"1\" class=\"dataframe\">\n",
       "  <thead>\n",
       "    <tr style=\"text-align: right;\">\n",
       "      <th></th>\n",
       "      <th>value</th>\n",
       "      <th>experimentVariant</th>\n",
       "    </tr>\n",
       "  </thead>\n",
       "  <tbody>\n",
       "    <tr>\n",
       "      <th>0</th>\n",
       "      <td>10.380495</td>\n",
       "      <td>Control</td>\n",
       "    </tr>\n",
       "    <tr>\n",
       "      <th>1</th>\n",
       "      <td>9.546867</td>\n",
       "      <td>Control</td>\n",
       "    </tr>\n",
       "    <tr>\n",
       "      <th>2</th>\n",
       "      <td>11.088215</td>\n",
       "      <td>Control</td>\n",
       "    </tr>\n",
       "    <tr>\n",
       "      <th>3</th>\n",
       "      <td>10.147274</td>\n",
       "      <td>Control</td>\n",
       "    </tr>\n",
       "    <tr>\n",
       "      <th>4</th>\n",
       "      <td>9.789808</td>\n",
       "      <td>Control</td>\n",
       "    </tr>\n",
       "  </tbody>\n",
       "</table>\n",
       "</div>"
      ],
      "text/plain": [
       "       value experimentVariant\n",
       "0  10.380495           Control\n",
       "1   9.546867           Control\n",
       "2  11.088215           Control\n",
       "3  10.147274           Control\n",
       "4   9.789808           Control"
      ]
     },
     "execution_count": 4,
     "metadata": {},
     "output_type": "execute_result"
    }
   ],
   "source": [
    "df = pd.read_csv(path, sep = ';', usecols = ['value', 'experimentVariant'], decimal = ',')\n",
    "df.head()"
   ]
  },
  {
   "cell_type": "code",
   "execution_count": 4,
   "metadata": {},
   "outputs": [
    {
     "data": {
      "text/plain": [
       "value                float64\n",
       "experimentVariant     object\n",
       "dtype: object"
      ]
     },
     "execution_count": 4,
     "metadata": {},
     "output_type": "execute_result"
    }
   ],
   "source": [
    "df.dtypes"
   ]
  },
  {
   "cell_type": "code",
   "execution_count": 5,
   "metadata": {
    "scrolled": true
   },
   "outputs": [
    {
     "data": {
      "text/plain": [
       "Control      500\n",
       "Treatment    500\n",
       "Name: experimentVariant, dtype: int64"
      ]
     },
     "execution_count": 5,
     "metadata": {},
     "output_type": "execute_result"
    }
   ],
   "source": [
    "df.experimentVariant.value_counts()"
   ]
  },
  {
   "cell_type": "markdown",
   "metadata": {},
   "source": [
    "#### 2) смотрим на распределения в тесте и контроле"
   ]
  },
  {
   "cell_type": "code",
   "execution_count": 5,
   "metadata": {},
   "outputs": [
    {
     "data": {
      "text/plain": [
       "<matplotlib.axes._subplots.AxesSubplot at 0x7fcc7460a0f0>"
      ]
     },
     "execution_count": 5,
     "metadata": {},
     "output_type": "execute_result"
    },
    {
     "data": {
      "image/png": "[encoded data removed]",
      "text/plain": [
       "<Figure size 432x288 with 1 Axes>"
      ]
     },
     "metadata": {},
     "output_type": "display_data"
    }
   ],
   "source": [
    "sns.boxplot(x = 'experimentVariant', y = 'value', data = df) #сложно оценить из-за выбросов"
   ]
  },
  {
   "cell_type": "code",
   "execution_count": 7,
   "metadata": {},
   "outputs": [
    {
     "data": {
      "text/plain": [
       "<matplotlib.axes._subplots.AxesSubplot at 0x7fcc2ea34668>"
      ]
     },
     "execution_count": 7,
     "metadata": {},
     "output_type": "execute_result"
    },
    {
     "data": {
      "image/png": "[encoded data removed]",
      "text/plain": [
       "<Figure size 432x288 with 1 Axes>"
      ]
     },
     "metadata": {},
     "output_type": "display_data"
    }
   ],
   "source": [
    "sns.boxplot(x = 'experimentVariant', y = 'value', data = df[df.value < 500])\n",
    "#без экстремальных значений видно, что в остальном распределения теста и контроля очень схожи"
   ]
  },
  {
   "cell_type": "markdown",
   "metadata": {},
   "source": [
    "#### 3) разделяем датасет на 2 выборки, смотрим основные статистики"
   ]
  },
  {
   "cell_type": "code",
   "execution_count": 9,
   "metadata": {},
   "outputs": [],
   "source": [
    "test_sample = df[df.experimentVariant == 'Treatment'].value\n",
    "control_sample = df[df.experimentVariant == 'Control'].value"
   ]
  },
  {
   "cell_type": "code",
   "execution_count": 13,
   "metadata": {},
   "outputs": [
    {
     "data": {
      "text/plain": [
       "(count     500.000000\n",
       " mean       27.321499\n",
       " std       186.557011\n",
       " min         6.436541\n",
       " 25%         9.421968\n",
       " 50%        10.025847\n",
       " 75%        10.675721\n",
       " max      3000.000000\n",
       " Name: value, dtype: float64,\n",
       " '----------------------------',\n",
       " count    500.000000\n",
       " mean      10.026867\n",
       " std        0.979377\n",
       " min        6.436541\n",
       " 25%        9.411024\n",
       " 50%       10.018465\n",
       " 75%       10.664879\n",
       " max       13.130346\n",
       " Name: value, dtype: float64)"
      ]
     },
     "execution_count": 13,
     "metadata": {},
     "output_type": "execute_result"
    }
   ],
   "source": [
    "test_sample.describe(), '----------------------------', control_sample.describe() "
   ]
  },
  {
   "cell_type": "markdown",
   "metadata": {},
   "source": [
    "#### 4) функция бутсрэпа"
   ]
  },
  {
   "cell_type": "code",
   "execution_count": 14,
   "metadata": {},
   "outputs": [],
   "source": [
    "def bootstrap (data_a, data_b, iters=1000, conf_lvl=0.95, stat=np.mean):\n",
    "    data_boot = []\n",
    "    n = max(len(data_a), len(data_b))\n",
    "    \n",
    "    for i in tqdm(range(iters)):\n",
    "        a = data_a.sample(n, replace=True).values\n",
    "        b = data_b.sample(n, replace=True).values\n",
    "        data_boot.append(stat(a-b))\n",
    "        data_boot_pd = pd.DataFrame(data_boot)\n",
    "\n",
    "    p_value_crit = 1 - conf_lvl\n",
    "    left_quant = p_value_crit/2\n",
    "    right_quant = 1 - left_quant\n",
    "    quantiles = data_boot_pd.quantile([left_quant, right_quant])\n",
    "\n",
    "    p1=sp.norm.cdf(x=0, loc= np.mean(data_boot), scale=np.std(data_boot))\n",
    "    p2=sp.norm.cdf(x=0, loc=-np.mean(data_boot), scale=np.std(data_boot))\n",
    "\n",
    "    p_value = min(p1, p2) * 2\n",
    "\n",
    "    # Визуализация\n",
    "    plt.hist(data_boot_pd[0], bins = int(np.sqrt(n)))\n",
    "\n",
    "    plt.vlines(quantiles, ymin=0, ymax=20,linestyle='--')\n",
    "    plt.xlabel('data_boot')\n",
    "    plt.ylabel('frequency')\n",
    "    plt.title(\"Histogram of data_boot\")\n",
    "    plt.show()\n",
    "\n",
    "    return 'p_value is {0:f}'.format(p_value)"
   ]
  },
  {
   "cell_type": "markdown",
   "metadata": {},
   "source": [
    "#### 5) применяем статтесты"
   ]
  },
  {
   "cell_type": "code",
   "execution_count": 32,
   "metadata": {},
   "outputs": [
    {
     "data": {
      "text/plain": [
       "MannwhitneyuResult(statistic=124189.5, pvalue=0.42960742912427896)"
      ]
     },
     "execution_count": 32,
     "metadata": {},
     "output_type": "execute_result"
    }
   ],
   "source": [
    "sp.mannwhitneyu(test_sample, control_sample)"
   ]
  },
  {
   "cell_type": "code",
   "execution_count": 17,
   "metadata": {},
   "outputs": [
    {
     "data": {
      "text/plain": [
       "Ttest_indResult(statistic=2.0729020485356604, pvalue=0.038437593613498765)"
      ]
     },
     "execution_count": 17,
     "metadata": {},
     "output_type": "execute_result"
    }
   ],
   "source": [
    "#sp.ttest_ind(test_sample, control_sample)"
   ]
  },
  {
   "cell_type": "code",
   "execution_count": null,
   "metadata": {},
   "outputs": [],
   "source": [
    "#bootstrap(control_sample, control_sample)"
   ]
  },
  {
   "cell_type": "code",
   "execution_count": 21,
   "metadata": {
    "scrolled": false
   },
   "outputs": [
    {
     "data": {
      "application/vnd.jupyter.widget-view+json": {
       "model_id": "7bc9d555a4ba410fbae40946f332c4d5",
       "version_major": 2,
       "version_minor": 0
      },
      "text/plain": [
       "HBox(children=(FloatProgress(value=0.0, max=1000.0), HTML(value='')))"
      ]
     },
     "metadata": {},
     "output_type": "display_data"
    },
    {
     "name": "stdout",
     "output_type": "stream",
     "text": [
      "\n"
     ]
    },
    {
     "data": {
      "image/png": "[encoded data removed]",
      "text/plain": [
       "<Figure size 432x288 with 1 Axes>"
      ]
     },
     "metadata": {},
     "output_type": "display_data"
    },
    {
     "data": {
      "text/plain": [
       "'p_value is 0.039315'"
      ]
     },
     "execution_count": 21,
     "metadata": {},
     "output_type": "execute_result"
    }
   ],
   "source": [
    "bootstrap(test_sample, control_sample)"
   ]
  },
  {
   "cell_type": "code",
   "execution_count": 35,
   "metadata": {
    "scrolled": true
   },
   "outputs": [
    {
     "data": {
      "application/vnd.jupyter.widget-view+json": {
       "model_id": "9040480ef39e4bf8bb0c7b0f46f01f75",
       "version_major": 2,
       "version_minor": 0
      },
      "text/plain": [
       "HBox(children=(FloatProgress(value=0.0, max=1000.0), HTML(value='')))"
      ]
     },
     "metadata": {},
     "output_type": "display_data"
    },
    {
     "name": "stdout",
     "output_type": "stream",
     "text": [
      "\n"
     ]
    },
    {
     "data": {
      "image/png": "[encoded data removed]",
      "text/plain": [
       "<Figure size 432x288 with 1 Axes>"
      ]
     },
     "metadata": {},
     "output_type": "display_data"
    },
    {
     "data": {
      "text/plain": [
       "'p_value is 0.843408'"
      ]
     },
     "execution_count": 35,
     "metadata": {},
     "output_type": "execute_result"
    }
   ],
   "source": [
    "bootstrap(test_sample, control_sample, stat=np.median)"
   ]
  },
  {
   "cell_type": "markdown",
   "metadata": {},
   "source": [
    "#### 6) выводы"
   ]
  },
  {
   "cell_type": "markdown",
   "metadata": {},
   "source": [
    "**Нулевая гипотеза - различий между группами нет**\n",
    "\n",
    "**1) бустрэп с функцией среднего (как и т-тест Стьюдента, если бы он рассматривался в задаче) даёт p-value ~ 0.03-0.04,\n",
    "что указывает нам отвергнуть нулевую гипотезу при уровне значимости 0.95 (т.е. скорее всего различия есть)**\n",
    "\n",
    "**2) но при оценке U-критерием Манна-Уитни (p-value ~ 0.43) и бустрэпом по медиане (p-value ~ 0.8-0.9) мы видим иную картину. Это можно объяснить тем, что данные тесты более устойчивы к выбросам**\n",
    "\n",
    "***как итог - в данном случае скорее нужно принять нулевую гипотезу, чем отвергнуть, т.к. прирост среднего значения в тестовой группе объясняется наличием всего 5 экстремальных наблюденией (от 1000 ед. и выше) а не какой-то тенденцией в целом или в части выборки. В остальном же тестовая группа очень схожа по распределению и описательным статистикам с контрольной (см п.3)***"
   ]
  },
  {
   "cell_type": "code",
   "execution_count": null,
   "metadata": {},
   "outputs": [],
   "source": []
  }
 ],
 "metadata": {
  "kernelspec": {
   "display_name": "Python 3",
   "language": "python",
   "name": "python3"
  },
  "language_info": {
   "codemirror_mode": {
    "name": "ipython",
    "version": 3
   },
   "file_extension": ".py",
   "mimetype": "text/x-python",
   "name": "python",
   "nbconvert_exporter": "python",
   "pygments_lexer": "ipython3",
   "version": "3.7.3"
  }
 },
 "nbformat": 4,
 "nbformat_minor": 4
}
